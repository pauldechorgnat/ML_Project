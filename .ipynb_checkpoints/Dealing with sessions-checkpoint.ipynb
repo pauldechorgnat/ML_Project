{
 "cells": [
  {
   "cell_type": "code",
   "execution_count": 1,
   "metadata": {
    "collapsed": true
   },
   "outputs": [],
   "source": [
    "import pandas as pd \n",
    "import numpy as np\n",
    "import matplotlib.pyplot as plt\n",
    "%matplotlib inline \n",
    "from os import listdir\n",
    "from tqdm import tqdm\n",
    "from os import stat, mkdir"
   ]
  },
  {
   "cell_type": "code",
   "execution_count": 2,
   "metadata": {
    "collapsed": true
   },
   "outputs": [],
   "source": [
    "path = 'C:/Users/Marie/Desktop/MSc DSBA/4. Machine Learning/3. Project'\n",
    "directory = '/data_cleaned'"
   ]
  },
  {
   "cell_type": "code",
   "execution_count": 3,
   "metadata": {
    "collapsed": true
   },
   "outputs": [],
   "source": [
    "try :\n",
    "    stat(path + directory)\n",
    "except :\n",
    "    mkdir(path + directory)"
   ]
  },
  {
   "cell_type": "code",
   "execution_count": 4,
   "metadata": {},
   "outputs": [
    {
     "name": "stdout",
     "output_type": "stream",
     "text": [
      "['.ipynb_checkpoints', 'data_cleaned', 'Dealing with sessions.ipynb', 'Github', 'sessions.csv', 'sessions_action.csv', 'sessions_action_detail.csv', 'sessions_action_type.csv', 'sessions_cleaned', 'sessions_device_type.csv', 'sessions_secs_elapsed.csv', 'test_users.csv', 'train_users_2.csv']\n"
     ]
    }
   ],
   "source": [
    "print(listdir(path))"
   ]
  },
  {
   "cell_type": "code",
   "execution_count": null,
   "metadata": {
    "collapsed": true
   },
   "outputs": [],
   "source": []
  },
  {
   "cell_type": "code",
   "execution_count": 5,
   "metadata": {
    "collapsed": true
   },
   "outputs": [],
   "source": [
    "def find_most_common_values(data, proportion = .9, col = 'action'):\n",
    "    \n",
    "    count = data[col].value_counts(normalize=True, dropna = False)\n",
    "    count_cum = count.cumsum()\n",
    "    \n",
    "    df = pd.DataFrame(count)\n",
    "    df[col + '_cum'] = count_cum\n",
    "    \n",
    "    return df[df[col+'_cum']<=proportion]\n",
    "        "
   ]
  },
  {
   "cell_type": "markdown",
   "metadata": {},
   "source": [
    "### Dealing with action variable"
   ]
  },
  {
   "cell_type": "code",
   "execution_count": 6,
   "metadata": {
    "collapsed": true
   },
   "outputs": [],
   "source": [
    "sessions_action = pd.read_csv(path + '/sessions.csv', usecols = ['action'])"
   ]
  },
  {
   "cell_type": "code",
   "execution_count": 7,
   "metadata": {
    "collapsed": true
   },
   "outputs": [],
   "source": [
    "df_action = find_most_common_values(data = sessions_action, proportion = .95).reset_index()"
   ]
  },
  {
   "cell_type": "code",
   "execution_count": 8,
   "metadata": {},
   "outputs": [
    {
     "name": "stdout",
     "output_type": "stream",
     "text": [
      "['show' 'index' 'search_results' 'personalize' 'search'\n",
      " 'ajax_refresh_subtotal' 'update' 'similar_listings' 'social_connections'\n",
      " 'reviews' 'active' 'similar_listings_v2' 'lookup' 'create' 'dashboard'\n",
      " 'header_userpic' 'collections' 'edit' 'campaigns' 'track_page_view' nan\n",
      " 'unavailabilities' 'qt2' 'notifications' 'confirm_email' 'requested'\n",
      " 'identity' 'ajax_check_dates' 'show_personalize' 'ask_question' 'listings'\n",
      " 'authenticate' 'calendar_tab_inner2' 'travel_plans_current'\n",
      " 'edit_verification' 'ajax_lwlb_contact' 'other_hosting_reviews_first'\n",
      " 'recommendations' 'impressions' 'manage_listing' 'click' 'complete_status'\n",
      " 'ajax_photo_widget_form_iframe' 'payment_instruments'\n",
      " 'message_to_host_focus' 'verify' 'payment_methods' 'cancellation_policies'\n",
      " 'callback' 'settings' 'custom_recommended_destinations']\n"
     ]
    }
   ],
   "source": [
    "most_common_values = np.array(df_action.sort_values('action', ascending = False)['index'])\n",
    "print(most_common_values)\n",
    "del df_action, sessions_action"
   ]
  },
  {
   "cell_type": "code",
   "execution_count": 9,
   "metadata": {},
   "outputs": [
    {
     "name": "stderr",
     "output_type": "stream",
     "text": [
      "529it [01:44,  5.07it/s]\n"
     ]
    }
   ],
   "source": [
    "session_reader = pd.read_csv(path + '/sessions.csv', chunksize = 20000)\n",
    "dfs = []\n",
    "for chunk in tqdm(session_reader):\n",
    "    chunk['action'] = chunk['action'].apply(lambda x: str(x) if str(x) in most_common_values else 'other')\n",
    "    chunk = chunk[['action', 'user_id']]\n",
    "    chunk = pd.get_dummies(chunk, columns = ['action'], prefix = 'action_')\n",
    "    chunk = chunk.groupby('user_id').sum()\n",
    "    dfs.append(chunk)"
   ]
  },
  {
   "cell_type": "code",
   "execution_count": 10,
   "metadata": {},
   "outputs": [
    {
     "name": "stderr",
     "output_type": "stream",
     "text": [
      "100%|████████████████████████████████████████████████████████████████████████████████| 528/528 [00:19<00:00, 27.10it/s]\n"
     ]
    }
   ],
   "source": [
    "df = dfs[0]\n",
    "for i in tqdm(range(1, len(dfs))):\n",
    "    df = pd.concat([df, dfs[i]])\n",
    "    dfs[i]=False"
   ]
  },
  {
   "cell_type": "code",
   "execution_count": 11,
   "metadata": {
    "collapsed": true
   },
   "outputs": [],
   "source": [
    "del dfs"
   ]
  },
  {
   "cell_type": "code",
   "execution_count": 12,
   "metadata": {
    "collapsed": true
   },
   "outputs": [],
   "source": [
    "df = df.fillna(0).astype(int).reset_index()"
   ]
  },
  {
   "cell_type": "code",
   "execution_count": 13,
   "metadata": {
    "collapsed": true
   },
   "outputs": [],
   "source": [
    "df = df.groupby('user_id').sum()"
   ]
  },
  {
   "cell_type": "code",
   "execution_count": 14,
   "metadata": {},
   "outputs": [
    {
     "data": {
      "text/html": [
       "<div>\n",
       "<style>\n",
       "    .dataframe thead tr:only-child th {\n",
       "        text-align: right;\n",
       "    }\n",
       "\n",
       "    .dataframe thead th {\n",
       "        text-align: left;\n",
       "    }\n",
       "\n",
       "    .dataframe tbody tr th {\n",
       "        vertical-align: top;\n",
       "    }\n",
       "</style>\n",
       "<table border=\"1\" class=\"dataframe\">\n",
       "  <thead>\n",
       "    <tr style=\"text-align: right;\">\n",
       "      <th></th>\n",
       "      <th>action__active</th>\n",
       "      <th>action__ajax_check_dates</th>\n",
       "      <th>action__ajax_lwlb_contact</th>\n",
       "      <th>action__ajax_photo_widget_form_iframe</th>\n",
       "      <th>action__ajax_refresh_subtotal</th>\n",
       "      <th>action__ask_question</th>\n",
       "      <th>action__authenticate</th>\n",
       "      <th>action__calendar_tab_inner2</th>\n",
       "      <th>action__callback</th>\n",
       "      <th>action__campaigns</th>\n",
       "      <th>...</th>\n",
       "      <th>action__show</th>\n",
       "      <th>action__show_personalize</th>\n",
       "      <th>action__similar_listings</th>\n",
       "      <th>action__similar_listings_v2</th>\n",
       "      <th>action__social_connections</th>\n",
       "      <th>action__track_page_view</th>\n",
       "      <th>action__travel_plans_current</th>\n",
       "      <th>action__unavailabilities</th>\n",
       "      <th>action__update</th>\n",
       "      <th>action__verify</th>\n",
       "    </tr>\n",
       "    <tr>\n",
       "      <th>user_id</th>\n",
       "      <th></th>\n",
       "      <th></th>\n",
       "      <th></th>\n",
       "      <th></th>\n",
       "      <th></th>\n",
       "      <th></th>\n",
       "      <th></th>\n",
       "      <th></th>\n",
       "      <th></th>\n",
       "      <th></th>\n",
       "      <th></th>\n",
       "      <th></th>\n",
       "      <th></th>\n",
       "      <th></th>\n",
       "      <th></th>\n",
       "      <th></th>\n",
       "      <th></th>\n",
       "      <th></th>\n",
       "      <th></th>\n",
       "      <th></th>\n",
       "      <th></th>\n",
       "    </tr>\n",
       "  </thead>\n",
       "  <tbody>\n",
       "    <tr>\n",
       "      <th>00023iyk9l</th>\n",
       "      <td>0</td>\n",
       "      <td>0</td>\n",
       "      <td>0</td>\n",
       "      <td>0</td>\n",
       "      <td>2</td>\n",
       "      <td>0</td>\n",
       "      <td>0</td>\n",
       "      <td>0</td>\n",
       "      <td>1</td>\n",
       "      <td>0</td>\n",
       "      <td>...</td>\n",
       "      <td>9</td>\n",
       "      <td>0</td>\n",
       "      <td>3</td>\n",
       "      <td>0</td>\n",
       "      <td>0</td>\n",
       "      <td>0</td>\n",
       "      <td>2</td>\n",
       "      <td>0</td>\n",
       "      <td>0</td>\n",
       "      <td>0</td>\n",
       "    </tr>\n",
       "    <tr>\n",
       "      <th>0010k6l0om</th>\n",
       "      <td>0</td>\n",
       "      <td>0</td>\n",
       "      <td>0</td>\n",
       "      <td>0</td>\n",
       "      <td>8</td>\n",
       "      <td>0</td>\n",
       "      <td>0</td>\n",
       "      <td>0</td>\n",
       "      <td>1</td>\n",
       "      <td>0</td>\n",
       "      <td>...</td>\n",
       "      <td>20</td>\n",
       "      <td>0</td>\n",
       "      <td>0</td>\n",
       "      <td>8</td>\n",
       "      <td>0</td>\n",
       "      <td>0</td>\n",
       "      <td>0</td>\n",
       "      <td>0</td>\n",
       "      <td>0</td>\n",
       "      <td>0</td>\n",
       "    </tr>\n",
       "    <tr>\n",
       "      <th>001wyh0pz8</th>\n",
       "      <td>4</td>\n",
       "      <td>0</td>\n",
       "      <td>0</td>\n",
       "      <td>0</td>\n",
       "      <td>0</td>\n",
       "      <td>0</td>\n",
       "      <td>0</td>\n",
       "      <td>0</td>\n",
       "      <td>0</td>\n",
       "      <td>3</td>\n",
       "      <td>...</td>\n",
       "      <td>6</td>\n",
       "      <td>0</td>\n",
       "      <td>0</td>\n",
       "      <td>0</td>\n",
       "      <td>2</td>\n",
       "      <td>0</td>\n",
       "      <td>0</td>\n",
       "      <td>0</td>\n",
       "      <td>1</td>\n",
       "      <td>0</td>\n",
       "    </tr>\n",
       "    <tr>\n",
       "      <th>0028jgx1x1</th>\n",
       "      <td>1</td>\n",
       "      <td>0</td>\n",
       "      <td>0</td>\n",
       "      <td>0</td>\n",
       "      <td>0</td>\n",
       "      <td>0</td>\n",
       "      <td>0</td>\n",
       "      <td>0</td>\n",
       "      <td>0</td>\n",
       "      <td>0</td>\n",
       "      <td>...</td>\n",
       "      <td>15</td>\n",
       "      <td>0</td>\n",
       "      <td>0</td>\n",
       "      <td>0</td>\n",
       "      <td>0</td>\n",
       "      <td>0</td>\n",
       "      <td>0</td>\n",
       "      <td>0</td>\n",
       "      <td>0</td>\n",
       "      <td>0</td>\n",
       "    </tr>\n",
       "    <tr>\n",
       "      <th>002qnbzfs5</th>\n",
       "      <td>29</td>\n",
       "      <td>0</td>\n",
       "      <td>0</td>\n",
       "      <td>0</td>\n",
       "      <td>0</td>\n",
       "      <td>0</td>\n",
       "      <td>0</td>\n",
       "      <td>0</td>\n",
       "      <td>0</td>\n",
       "      <td>28</td>\n",
       "      <td>...</td>\n",
       "      <td>232</td>\n",
       "      <td>0</td>\n",
       "      <td>0</td>\n",
       "      <td>0</td>\n",
       "      <td>72</td>\n",
       "      <td>0</td>\n",
       "      <td>0</td>\n",
       "      <td>21</td>\n",
       "      <td>13</td>\n",
       "      <td>0</td>\n",
       "    </tr>\n",
       "  </tbody>\n",
       "</table>\n",
       "<p>5 rows × 51 columns</p>\n",
       "</div>"
      ],
      "text/plain": [
       "            action__active  action__ajax_check_dates  \\\n",
       "user_id                                                \n",
       "00023iyk9l               0                         0   \n",
       "0010k6l0om               0                         0   \n",
       "001wyh0pz8               4                         0   \n",
       "0028jgx1x1               1                         0   \n",
       "002qnbzfs5              29                         0   \n",
       "\n",
       "            action__ajax_lwlb_contact  action__ajax_photo_widget_form_iframe  \\\n",
       "user_id                                                                        \n",
       "00023iyk9l                          0                                      0   \n",
       "0010k6l0om                          0                                      0   \n",
       "001wyh0pz8                          0                                      0   \n",
       "0028jgx1x1                          0                                      0   \n",
       "002qnbzfs5                          0                                      0   \n",
       "\n",
       "            action__ajax_refresh_subtotal  action__ask_question  \\\n",
       "user_id                                                           \n",
       "00023iyk9l                              2                     0   \n",
       "0010k6l0om                              8                     0   \n",
       "001wyh0pz8                              0                     0   \n",
       "0028jgx1x1                              0                     0   \n",
       "002qnbzfs5                              0                     0   \n",
       "\n",
       "            action__authenticate  action__calendar_tab_inner2  \\\n",
       "user_id                                                         \n",
       "00023iyk9l                     0                            0   \n",
       "0010k6l0om                     0                            0   \n",
       "001wyh0pz8                     0                            0   \n",
       "0028jgx1x1                     0                            0   \n",
       "002qnbzfs5                     0                            0   \n",
       "\n",
       "            action__callback  action__campaigns       ...        action__show  \\\n",
       "user_id                                               ...                       \n",
       "00023iyk9l                 1                  0       ...                   9   \n",
       "0010k6l0om                 1                  0       ...                  20   \n",
       "001wyh0pz8                 0                  3       ...                   6   \n",
       "0028jgx1x1                 0                  0       ...                  15   \n",
       "002qnbzfs5                 0                 28       ...                 232   \n",
       "\n",
       "            action__show_personalize  action__similar_listings  \\\n",
       "user_id                                                          \n",
       "00023iyk9l                         0                         3   \n",
       "0010k6l0om                         0                         0   \n",
       "001wyh0pz8                         0                         0   \n",
       "0028jgx1x1                         0                         0   \n",
       "002qnbzfs5                         0                         0   \n",
       "\n",
       "            action__similar_listings_v2  action__social_connections  \\\n",
       "user_id                                                               \n",
       "00023iyk9l                            0                           0   \n",
       "0010k6l0om                            8                           0   \n",
       "001wyh0pz8                            0                           2   \n",
       "0028jgx1x1                            0                           0   \n",
       "002qnbzfs5                            0                          72   \n",
       "\n",
       "            action__track_page_view  action__travel_plans_current  \\\n",
       "user_id                                                             \n",
       "00023iyk9l                        0                             2   \n",
       "0010k6l0om                        0                             0   \n",
       "001wyh0pz8                        0                             0   \n",
       "0028jgx1x1                        0                             0   \n",
       "002qnbzfs5                        0                             0   \n",
       "\n",
       "            action__unavailabilities  action__update  action__verify  \n",
       "user_id                                                               \n",
       "00023iyk9l                         0               0               0  \n",
       "0010k6l0om                         0               0               0  \n",
       "001wyh0pz8                         0               1               0  \n",
       "0028jgx1x1                         0               0               0  \n",
       "002qnbzfs5                        21              13               0  \n",
       "\n",
       "[5 rows x 51 columns]"
      ]
     },
     "execution_count": 14,
     "metadata": {},
     "output_type": "execute_result"
    }
   ],
   "source": [
    "df.head()"
   ]
  },
  {
   "cell_type": "code",
   "execution_count": 15,
   "metadata": {
    "collapsed": true
   },
   "outputs": [],
   "source": [
    "df.to_csv(path + directory + '/sessions_action.csv', index = True)"
   ]
  },
  {
   "cell_type": "code",
   "execution_count": 16,
   "metadata": {
    "collapsed": true
   },
   "outputs": [],
   "source": [
    "del df "
   ]
  },
  {
   "cell_type": "markdown",
   "metadata": {},
   "source": [
    "### Dealing with action_type variable"
   ]
  },
  {
   "cell_type": "code",
   "execution_count": 17,
   "metadata": {
    "collapsed": true
   },
   "outputs": [],
   "source": [
    "sessions_action_type = pd.read_csv(path + '/sessions.csv', usecols = ['action_type'])"
   ]
  },
  {
   "cell_type": "code",
   "execution_count": 18,
   "metadata": {
    "collapsed": true
   },
   "outputs": [],
   "source": [
    "df_action_type = find_most_common_values(proportion = .99, data = sessions_action_type, col = 'action_type').reset_index()"
   ]
  },
  {
   "cell_type": "code",
   "execution_count": 19,
   "metadata": {},
   "outputs": [
    {
     "name": "stdout",
     "output_type": "stream",
     "text": [
      "['view' 'data' 'click' nan '-unknown-' 'submit']\n"
     ]
    }
   ],
   "source": [
    "most_common_values = np.array(df_action_type.sort_values('action_type', ascending = False)['index'])\n",
    "print(most_common_values)\n",
    "del df_action_type, sessions_action_type"
   ]
  },
  {
   "cell_type": "code",
   "execution_count": 20,
   "metadata": {},
   "outputs": [
    {
     "name": "stderr",
     "output_type": "stream",
     "text": [
      "529it [01:22,  6.44it/s]\n"
     ]
    }
   ],
   "source": [
    "session_reader = pd.read_csv(path + '/sessions.csv', chunksize = 20000)\n",
    "dfs = []\n",
    "for chunk in tqdm(session_reader):\n",
    "    chunk['action_type'] = chunk['action_type'].apply(lambda x: str(x) if str(x) in most_common_values else 'other')\n",
    "    chunk = chunk[['action_type', 'user_id']]\n",
    "    chunk = pd.get_dummies(chunk, columns = ['action_type'], prefix = 'action_type_')\n",
    "    chunk = chunk.groupby('user_id').sum()\n",
    "    dfs.append(chunk)"
   ]
  },
  {
   "cell_type": "code",
   "execution_count": 21,
   "metadata": {},
   "outputs": [
    {
     "name": "stderr",
     "output_type": "stream",
     "text": [
      "100%|███████████████████████████████████████████████████████████████████████████████| 528/528 [00:03<00:00, 145.20it/s]\n"
     ]
    }
   ],
   "source": [
    "df = dfs[0]\n",
    "for i in tqdm(range(1, len(dfs))):\n",
    "    df = pd.concat([df, dfs[i]])\n",
    "    dfs[i]=False"
   ]
  },
  {
   "cell_type": "code",
   "execution_count": 22,
   "metadata": {
    "collapsed": true
   },
   "outputs": [],
   "source": [
    "del dfs"
   ]
  },
  {
   "cell_type": "code",
   "execution_count": 23,
   "metadata": {
    "collapsed": true
   },
   "outputs": [],
   "source": [
    "df = df.fillna(0).astype(int).reset_index()"
   ]
  },
  {
   "cell_type": "code",
   "execution_count": 24,
   "metadata": {
    "collapsed": true
   },
   "outputs": [],
   "source": [
    "df = df.groupby('user_id').sum()"
   ]
  },
  {
   "cell_type": "code",
   "execution_count": 25,
   "metadata": {},
   "outputs": [
    {
     "data": {
      "text/html": [
       "<div>\n",
       "<style>\n",
       "    .dataframe thead tr:only-child th {\n",
       "        text-align: right;\n",
       "    }\n",
       "\n",
       "    .dataframe thead th {\n",
       "        text-align: left;\n",
       "    }\n",
       "\n",
       "    .dataframe tbody tr th {\n",
       "        vertical-align: top;\n",
       "    }\n",
       "</style>\n",
       "<table border=\"1\" class=\"dataframe\">\n",
       "  <thead>\n",
       "    <tr style=\"text-align: right;\">\n",
       "      <th></th>\n",
       "      <th>action_type__-unknown-</th>\n",
       "      <th>action_type__click</th>\n",
       "      <th>action_type__data</th>\n",
       "      <th>action_type__other</th>\n",
       "      <th>action_type__submit</th>\n",
       "      <th>action_type__view</th>\n",
       "    </tr>\n",
       "    <tr>\n",
       "      <th>user_id</th>\n",
       "      <th></th>\n",
       "      <th></th>\n",
       "      <th></th>\n",
       "      <th></th>\n",
       "      <th></th>\n",
       "      <th></th>\n",
       "    </tr>\n",
       "  </thead>\n",
       "  <tbody>\n",
       "    <tr>\n",
       "      <th>00023iyk9l</th>\n",
       "      <td>0</td>\n",
       "      <td>4</td>\n",
       "      <td>9</td>\n",
       "      <td>6</td>\n",
       "      <td>0</td>\n",
       "      <td>21</td>\n",
       "    </tr>\n",
       "    <tr>\n",
       "      <th>0010k6l0om</th>\n",
       "      <td>5</td>\n",
       "      <td>16</td>\n",
       "      <td>9</td>\n",
       "      <td>16</td>\n",
       "      <td>0</td>\n",
       "      <td>17</td>\n",
       "    </tr>\n",
       "    <tr>\n",
       "      <th>001wyh0pz8</th>\n",
       "      <td>6</td>\n",
       "      <td>66</td>\n",
       "      <td>2</td>\n",
       "      <td>5</td>\n",
       "      <td>3</td>\n",
       "      <td>8</td>\n",
       "    </tr>\n",
       "    <tr>\n",
       "      <th>0028jgx1x1</th>\n",
       "      <td>1</td>\n",
       "      <td>9</td>\n",
       "      <td>5</td>\n",
       "      <td>0</td>\n",
       "      <td>1</td>\n",
       "      <td>15</td>\n",
       "    </tr>\n",
       "    <tr>\n",
       "      <th>002qnbzfs5</th>\n",
       "      <td>184</td>\n",
       "      <td>140</td>\n",
       "      <td>140</td>\n",
       "      <td>94</td>\n",
       "      <td>15</td>\n",
       "      <td>216</td>\n",
       "    </tr>\n",
       "  </tbody>\n",
       "</table>\n",
       "</div>"
      ],
      "text/plain": [
       "            action_type__-unknown-  action_type__click  action_type__data  \\\n",
       "user_id                                                                     \n",
       "00023iyk9l                       0                   4                  9   \n",
       "0010k6l0om                       5                  16                  9   \n",
       "001wyh0pz8                       6                  66                  2   \n",
       "0028jgx1x1                       1                   9                  5   \n",
       "002qnbzfs5                     184                 140                140   \n",
       "\n",
       "            action_type__other  action_type__submit  action_type__view  \n",
       "user_id                                                                 \n",
       "00023iyk9l                   6                    0                 21  \n",
       "0010k6l0om                  16                    0                 17  \n",
       "001wyh0pz8                   5                    3                  8  \n",
       "0028jgx1x1                   0                    1                 15  \n",
       "002qnbzfs5                  94                   15                216  "
      ]
     },
     "execution_count": 25,
     "metadata": {},
     "output_type": "execute_result"
    }
   ],
   "source": [
    "df.head()"
   ]
  },
  {
   "cell_type": "code",
   "execution_count": 26,
   "metadata": {
    "collapsed": true
   },
   "outputs": [],
   "source": [
    "df.to_csv(path + directory + '/sessions_action_type.csv', index = True)"
   ]
  },
  {
   "cell_type": "code",
   "execution_count": 27,
   "metadata": {
    "collapsed": true
   },
   "outputs": [],
   "source": [
    "del df"
   ]
  },
  {
   "cell_type": "markdown",
   "metadata": {},
   "source": [
    "### Dealing with action_detail variable"
   ]
  },
  {
   "cell_type": "code",
   "execution_count": 28,
   "metadata": {
    "collapsed": true
   },
   "outputs": [],
   "source": [
    "sessions_action_detail = pd.read_csv(path + '/sessions.csv', usecols = ['action_detail'])"
   ]
  },
  {
   "cell_type": "code",
   "execution_count": 29,
   "metadata": {
    "collapsed": true
   },
   "outputs": [],
   "source": [
    "df_action_detail = find_most_common_values(proportion = .99, data = sessions_action_detail, col = 'action_detail').reset_index()"
   ]
  },
  {
   "cell_type": "code",
   "execution_count": 30,
   "metadata": {},
   "outputs": [
    {
     "name": "stdout",
     "output_type": "stream",
     "text": [
      "['view_search_results' 'p3' nan '-unknown-' 'wishlist_content_update'\n",
      " 'user_profile' 'change_trip_characteristics' 'similar_listings'\n",
      " 'user_social_connections' 'update_listing' 'listing_reviews' 'dashboard'\n",
      " 'user_wishlists' 'header_userpic' 'message_thread' 'edit_profile'\n",
      " 'message_post' 'contact_host' 'unavailable_dates' 'confirm_email_link'\n",
      " 'create_user' 'change_contact_host_dates' 'user_profile_content_update'\n",
      " 'user_reviews' 'p5' 'login' 'your_trips' 'p1' 'notifications'\n",
      " 'profile_verifications' 'reservations' 'user_listings' 'your_listings'\n",
      " 'listing_recommendations' 'update_user' 'create_phone_numbers' 'p4'\n",
      " 'update_listing_description' 'update_user_profile' 'manage_listing'\n",
      " 'payment_instruments' 'account_notification_settings'\n",
      " 'message_to_host_focus' 'signup' 'cancellation_policies' 'oauth_response'\n",
      " 'message_inbox' 'view_listing' 'message_to_host_change' 'list_your_space'\n",
      " 'pending' 'wishlist' 'profile_references' 'apply_coupon' 'oauth_login'\n",
      " 'view_reservations' 'login_page' 'post_checkout_action'\n",
      " 'trip_availability' 'send_message' 'signup_login_page' 'book_it'\n",
      " 'create_listing' 'request_new_confirm_email']\n"
     ]
    }
   ],
   "source": [
    "most_common_values = np.array(df_action_detail.sort_values('action_detail', ascending = False)['index'])\n",
    "print(most_common_values)\n",
    "del df_action_detail, sessions_action_detail"
   ]
  },
  {
   "cell_type": "code",
   "execution_count": 31,
   "metadata": {},
   "outputs": [
    {
     "name": "stderr",
     "output_type": "stream",
     "text": [
      "529it [01:44,  5.05it/s]\n"
     ]
    }
   ],
   "source": [
    "session_reader = pd.read_csv(path + '/sessions.csv', chunksize = 20000)\n",
    "dfs = []\n",
    "for chunk in tqdm(session_reader):\n",
    "    chunk['action_detail'] = chunk['action_detail'].apply(lambda x: str(x) if str(x) in most_common_values else 'other')\n",
    "    chunk = chunk[['action_detail', 'user_id']]\n",
    "    chunk = pd.get_dummies(chunk, columns = ['action_detail'], prefix = 'action_detail_')\n",
    "    chunk = chunk.groupby('user_id').sum()\n",
    "    dfs.append(chunk)"
   ]
  },
  {
   "cell_type": "code",
   "execution_count": 32,
   "metadata": {},
   "outputs": [
    {
     "name": "stderr",
     "output_type": "stream",
     "text": [
      "100%|████████████████████████████████████████████████████████████████████████████████| 528/528 [00:23<00:00, 22.10it/s]\n"
     ]
    }
   ],
   "source": [
    "df = dfs[0]\n",
    "for i in tqdm(range(1, len(dfs))):\n",
    "    df = pd.concat([df, dfs[i]])\n",
    "    dfs[i]=False"
   ]
  },
  {
   "cell_type": "code",
   "execution_count": 33,
   "metadata": {
    "collapsed": true
   },
   "outputs": [],
   "source": [
    "del dfs"
   ]
  },
  {
   "cell_type": "code",
   "execution_count": 34,
   "metadata": {
    "collapsed": true
   },
   "outputs": [],
   "source": [
    "df = df.fillna(0).astype(int).reset_index()"
   ]
  },
  {
   "cell_type": "code",
   "execution_count": 35,
   "metadata": {
    "collapsed": true
   },
   "outputs": [],
   "source": [
    "df = df.groupby('user_id').sum()"
   ]
  },
  {
   "cell_type": "code",
   "execution_count": 36,
   "metadata": {},
   "outputs": [
    {
     "data": {
      "text/html": [
       "<div>\n",
       "<style>\n",
       "    .dataframe thead tr:only-child th {\n",
       "        text-align: right;\n",
       "    }\n",
       "\n",
       "    .dataframe thead th {\n",
       "        text-align: left;\n",
       "    }\n",
       "\n",
       "    .dataframe tbody tr th {\n",
       "        vertical-align: top;\n",
       "    }\n",
       "</style>\n",
       "<table border=\"1\" class=\"dataframe\">\n",
       "  <thead>\n",
       "    <tr style=\"text-align: right;\">\n",
       "      <th></th>\n",
       "      <th>action_detail__-unknown-</th>\n",
       "      <th>action_detail__account_notification_settings</th>\n",
       "      <th>action_detail__apply_coupon</th>\n",
       "      <th>action_detail__book_it</th>\n",
       "      <th>action_detail__cancellation_policies</th>\n",
       "      <th>action_detail__change_contact_host_dates</th>\n",
       "      <th>action_detail__change_trip_characteristics</th>\n",
       "      <th>action_detail__confirm_email_link</th>\n",
       "      <th>action_detail__contact_host</th>\n",
       "      <th>action_detail__create_listing</th>\n",
       "      <th>...</th>\n",
       "      <th>action_detail__user_reviews</th>\n",
       "      <th>action_detail__user_social_connections</th>\n",
       "      <th>action_detail__user_wishlists</th>\n",
       "      <th>action_detail__view_listing</th>\n",
       "      <th>action_detail__view_reservations</th>\n",
       "      <th>action_detail__view_search_results</th>\n",
       "      <th>action_detail__wishlist</th>\n",
       "      <th>action_detail__wishlist_content_update</th>\n",
       "      <th>action_detail__your_listings</th>\n",
       "      <th>action_detail__your_trips</th>\n",
       "    </tr>\n",
       "    <tr>\n",
       "      <th>user_id</th>\n",
       "      <th></th>\n",
       "      <th></th>\n",
       "      <th></th>\n",
       "      <th></th>\n",
       "      <th></th>\n",
       "      <th></th>\n",
       "      <th></th>\n",
       "      <th></th>\n",
       "      <th></th>\n",
       "      <th></th>\n",
       "      <th></th>\n",
       "      <th></th>\n",
       "      <th></th>\n",
       "      <th></th>\n",
       "      <th></th>\n",
       "      <th></th>\n",
       "      <th></th>\n",
       "      <th></th>\n",
       "      <th></th>\n",
       "      <th></th>\n",
       "      <th></th>\n",
       "    </tr>\n",
       "  </thead>\n",
       "  <tbody>\n",
       "    <tr>\n",
       "      <th>00023iyk9l</th>\n",
       "      <td>0</td>\n",
       "      <td>0</td>\n",
       "      <td>0</td>\n",
       "      <td>0</td>\n",
       "      <td>0</td>\n",
       "      <td>0</td>\n",
       "      <td>2</td>\n",
       "      <td>1</td>\n",
       "      <td>0</td>\n",
       "      <td>0</td>\n",
       "      <td>...</td>\n",
       "      <td>0</td>\n",
       "      <td>0</td>\n",
       "      <td>0</td>\n",
       "      <td>0</td>\n",
       "      <td>0</td>\n",
       "      <td>5</td>\n",
       "      <td>0</td>\n",
       "      <td>4</td>\n",
       "      <td>0</td>\n",
       "      <td>2</td>\n",
       "    </tr>\n",
       "    <tr>\n",
       "      <th>0010k6l0om</th>\n",
       "      <td>5</td>\n",
       "      <td>0</td>\n",
       "      <td>0</td>\n",
       "      <td>0</td>\n",
       "      <td>0</td>\n",
       "      <td>0</td>\n",
       "      <td>8</td>\n",
       "      <td>0</td>\n",
       "      <td>0</td>\n",
       "      <td>0</td>\n",
       "      <td>...</td>\n",
       "      <td>0</td>\n",
       "      <td>0</td>\n",
       "      <td>0</td>\n",
       "      <td>0</td>\n",
       "      <td>0</td>\n",
       "      <td>10</td>\n",
       "      <td>0</td>\n",
       "      <td>8</td>\n",
       "      <td>0</td>\n",
       "      <td>0</td>\n",
       "    </tr>\n",
       "    <tr>\n",
       "      <th>001wyh0pz8</th>\n",
       "      <td>6</td>\n",
       "      <td>0</td>\n",
       "      <td>0</td>\n",
       "      <td>0</td>\n",
       "      <td>0</td>\n",
       "      <td>0</td>\n",
       "      <td>0</td>\n",
       "      <td>0</td>\n",
       "      <td>0</td>\n",
       "      <td>0</td>\n",
       "      <td>...</td>\n",
       "      <td>0</td>\n",
       "      <td>2</td>\n",
       "      <td>4</td>\n",
       "      <td>0</td>\n",
       "      <td>0</td>\n",
       "      <td>66</td>\n",
       "      <td>0</td>\n",
       "      <td>0</td>\n",
       "      <td>0</td>\n",
       "      <td>0</td>\n",
       "    </tr>\n",
       "    <tr>\n",
       "      <th>0028jgx1x1</th>\n",
       "      <td>1</td>\n",
       "      <td>0</td>\n",
       "      <td>0</td>\n",
       "      <td>0</td>\n",
       "      <td>0</td>\n",
       "      <td>0</td>\n",
       "      <td>0</td>\n",
       "      <td>0</td>\n",
       "      <td>0</td>\n",
       "      <td>0</td>\n",
       "      <td>...</td>\n",
       "      <td>0</td>\n",
       "      <td>0</td>\n",
       "      <td>0</td>\n",
       "      <td>0</td>\n",
       "      <td>0</td>\n",
       "      <td>9</td>\n",
       "      <td>0</td>\n",
       "      <td>0</td>\n",
       "      <td>0</td>\n",
       "      <td>0</td>\n",
       "    </tr>\n",
       "    <tr>\n",
       "      <th>002qnbzfs5</th>\n",
       "      <td>184</td>\n",
       "      <td>0</td>\n",
       "      <td>0</td>\n",
       "      <td>6</td>\n",
       "      <td>0</td>\n",
       "      <td>0</td>\n",
       "      <td>0</td>\n",
       "      <td>1</td>\n",
       "      <td>8</td>\n",
       "      <td>0</td>\n",
       "      <td>...</td>\n",
       "      <td>3</td>\n",
       "      <td>72</td>\n",
       "      <td>0</td>\n",
       "      <td>0</td>\n",
       "      <td>0</td>\n",
       "      <td>125</td>\n",
       "      <td>0</td>\n",
       "      <td>0</td>\n",
       "      <td>0</td>\n",
       "      <td>0</td>\n",
       "    </tr>\n",
       "  </tbody>\n",
       "</table>\n",
       "<p>5 rows × 64 columns</p>\n",
       "</div>"
      ],
      "text/plain": [
       "            action_detail__-unknown-  \\\n",
       "user_id                                \n",
       "00023iyk9l                         0   \n",
       "0010k6l0om                         5   \n",
       "001wyh0pz8                         6   \n",
       "0028jgx1x1                         1   \n",
       "002qnbzfs5                       184   \n",
       "\n",
       "            action_detail__account_notification_settings  \\\n",
       "user_id                                                    \n",
       "00023iyk9l                                             0   \n",
       "0010k6l0om                                             0   \n",
       "001wyh0pz8                                             0   \n",
       "0028jgx1x1                                             0   \n",
       "002qnbzfs5                                             0   \n",
       "\n",
       "            action_detail__apply_coupon  action_detail__book_it  \\\n",
       "user_id                                                           \n",
       "00023iyk9l                            0                       0   \n",
       "0010k6l0om                            0                       0   \n",
       "001wyh0pz8                            0                       0   \n",
       "0028jgx1x1                            0                       0   \n",
       "002qnbzfs5                            0                       6   \n",
       "\n",
       "            action_detail__cancellation_policies  \\\n",
       "user_id                                            \n",
       "00023iyk9l                                     0   \n",
       "0010k6l0om                                     0   \n",
       "001wyh0pz8                                     0   \n",
       "0028jgx1x1                                     0   \n",
       "002qnbzfs5                                     0   \n",
       "\n",
       "            action_detail__change_contact_host_dates  \\\n",
       "user_id                                                \n",
       "00023iyk9l                                         0   \n",
       "0010k6l0om                                         0   \n",
       "001wyh0pz8                                         0   \n",
       "0028jgx1x1                                         0   \n",
       "002qnbzfs5                                         0   \n",
       "\n",
       "            action_detail__change_trip_characteristics  \\\n",
       "user_id                                                  \n",
       "00023iyk9l                                           2   \n",
       "0010k6l0om                                           8   \n",
       "001wyh0pz8                                           0   \n",
       "0028jgx1x1                                           0   \n",
       "002qnbzfs5                                           0   \n",
       "\n",
       "            action_detail__confirm_email_link  action_detail__contact_host  \\\n",
       "user_id                                                                      \n",
       "00023iyk9l                                  1                            0   \n",
       "0010k6l0om                                  0                            0   \n",
       "001wyh0pz8                                  0                            0   \n",
       "0028jgx1x1                                  0                            0   \n",
       "002qnbzfs5                                  1                            8   \n",
       "\n",
       "            action_detail__create_listing            ...              \\\n",
       "user_id                                              ...               \n",
       "00023iyk9l                              0            ...               \n",
       "0010k6l0om                              0            ...               \n",
       "001wyh0pz8                              0            ...               \n",
       "0028jgx1x1                              0            ...               \n",
       "002qnbzfs5                              0            ...               \n",
       "\n",
       "            action_detail__user_reviews  \\\n",
       "user_id                                   \n",
       "00023iyk9l                            0   \n",
       "0010k6l0om                            0   \n",
       "001wyh0pz8                            0   \n",
       "0028jgx1x1                            0   \n",
       "002qnbzfs5                            3   \n",
       "\n",
       "            action_detail__user_social_connections  \\\n",
       "user_id                                              \n",
       "00023iyk9l                                       0   \n",
       "0010k6l0om                                       0   \n",
       "001wyh0pz8                                       2   \n",
       "0028jgx1x1                                       0   \n",
       "002qnbzfs5                                      72   \n",
       "\n",
       "            action_detail__user_wishlists  action_detail__view_listing  \\\n",
       "user_id                                                                  \n",
       "00023iyk9l                              0                            0   \n",
       "0010k6l0om                              0                            0   \n",
       "001wyh0pz8                              4                            0   \n",
       "0028jgx1x1                              0                            0   \n",
       "002qnbzfs5                              0                            0   \n",
       "\n",
       "            action_detail__view_reservations  \\\n",
       "user_id                                        \n",
       "00023iyk9l                                 0   \n",
       "0010k6l0om                                 0   \n",
       "001wyh0pz8                                 0   \n",
       "0028jgx1x1                                 0   \n",
       "002qnbzfs5                                 0   \n",
       "\n",
       "            action_detail__view_search_results  action_detail__wishlist  \\\n",
       "user_id                                                                   \n",
       "00023iyk9l                                   5                        0   \n",
       "0010k6l0om                                  10                        0   \n",
       "001wyh0pz8                                  66                        0   \n",
       "0028jgx1x1                                   9                        0   \n",
       "002qnbzfs5                                 125                        0   \n",
       "\n",
       "            action_detail__wishlist_content_update  \\\n",
       "user_id                                              \n",
       "00023iyk9l                                       4   \n",
       "0010k6l0om                                       8   \n",
       "001wyh0pz8                                       0   \n",
       "0028jgx1x1                                       0   \n",
       "002qnbzfs5                                       0   \n",
       "\n",
       "            action_detail__your_listings  action_detail__your_trips  \n",
       "user_id                                                              \n",
       "00023iyk9l                             0                          2  \n",
       "0010k6l0om                             0                          0  \n",
       "001wyh0pz8                             0                          0  \n",
       "0028jgx1x1                             0                          0  \n",
       "002qnbzfs5                             0                          0  \n",
       "\n",
       "[5 rows x 64 columns]"
      ]
     },
     "execution_count": 36,
     "metadata": {},
     "output_type": "execute_result"
    }
   ],
   "source": [
    "df.head()"
   ]
  },
  {
   "cell_type": "code",
   "execution_count": 37,
   "metadata": {
    "collapsed": true
   },
   "outputs": [],
   "source": [
    "df.to_csv(path + directory + '/sessions_action_detail.csv', index = True)"
   ]
  },
  {
   "cell_type": "code",
   "execution_count": 38,
   "metadata": {
    "collapsed": true
   },
   "outputs": [],
   "source": [
    "del df"
   ]
  },
  {
   "cell_type": "markdown",
   "metadata": {},
   "source": [
    "### Dealing with other variables "
   ]
  },
  {
   "cell_type": "code",
   "execution_count": 39,
   "metadata": {
    "collapsed": true
   },
   "outputs": [],
   "source": [
    "df = pd.read_csv(path + '/sessions.csv', usecols=['user_id', 'device_type'])"
   ]
  },
  {
   "cell_type": "code",
   "execution_count": 40,
   "metadata": {
    "collapsed": true
   },
   "outputs": [],
   "source": [
    "df = pd.get_dummies(df, columns=['device_type'], prefix='decive_type_')"
   ]
  },
  {
   "cell_type": "code",
   "execution_count": 41,
   "metadata": {
    "collapsed": true
   },
   "outputs": [],
   "source": [
    "df = df.groupby('user_id').sum().astype(int)"
   ]
  },
  {
   "cell_type": "code",
   "execution_count": 42,
   "metadata": {
    "collapsed": true
   },
   "outputs": [],
   "source": [
    "df.to_csv(path + directory + '/sessions_device_type.csv', index = True)"
   ]
  },
  {
   "cell_type": "markdown",
   "metadata": {
    "collapsed": true
   },
   "source": [
    "### Dealing with continuous variables "
   ]
  },
  {
   "cell_type": "code",
   "execution_count": 43,
   "metadata": {
    "collapsed": true
   },
   "outputs": [],
   "source": [
    "df = pd.read_csv(path + '/sessions.csv', usecols = ['user_id', 'secs_elapsed'])"
   ]
  },
  {
   "cell_type": "code",
   "execution_count": 44,
   "metadata": {
    "collapsed": true
   },
   "outputs": [],
   "source": [
    "df['aggregator'] = 1"
   ]
  },
  {
   "cell_type": "code",
   "execution_count": 45,
   "metadata": {
    "collapsed": true
   },
   "outputs": [],
   "source": [
    "df = df.groupby('user_id').agg({'secs_elapsed':[np.min, np.max, np.median, np.std, np.mean], 'aggregator':np.sum})\n",
    "df.columns = ['secs_min', 'secs_max', 'secs_med', 'secs_std', 'secs_mean', 'nb_sessions']"
   ]
  },
  {
   "cell_type": "code",
   "execution_count": 46,
   "metadata": {
    "collapsed": true
   },
   "outputs": [],
   "source": [
    "df.secs_std = df.secs_std.fillna(0)"
   ]
  },
  {
   "cell_type": "code",
   "execution_count": 47,
   "metadata": {
    "collapsed": true
   },
   "outputs": [],
   "source": [
    "df.to_csv(path + directory + '/sessions_secs_elapsed.csv', index = True)"
   ]
  },
  {
   "cell_type": "code",
   "execution_count": 48,
   "metadata": {
    "collapsed": true
   },
   "outputs": [],
   "source": [
    "del df"
   ]
  },
  {
   "cell_type": "markdown",
   "metadata": {},
   "source": [
    "### Concatenating different datasets"
   ]
  },
  {
   "cell_type": "code",
   "execution_count": 49,
   "metadata": {},
   "outputs": [
    {
     "name": "stdout",
     "output_type": "stream",
     "text": [
      "['sessions_action.csv', 'sessions_action_detail.csv', 'sessions_action_type.csv', 'sessions_device_type.csv', 'sessions_secs_elapsed.csv']\n"
     ]
    }
   ],
   "source": [
    "print(listdir(path + directory))"
   ]
  },
  {
   "cell_type": "code",
   "execution_count": 50,
   "metadata": {
    "collapsed": true
   },
   "outputs": [],
   "source": [
    "dfs = []\n",
    "for f in listdir(path + directory):\n",
    "    dfs.append(pd.read_csv(path + directory + '/' + f).set_index('user_id', drop = True))"
   ]
  },
  {
   "cell_type": "code",
   "execution_count": 51,
   "metadata": {
    "collapsed": true
   },
   "outputs": [],
   "source": [
    "data = pd.concat(dfs, axis = 1)"
   ]
  },
  {
   "cell_type": "code",
   "execution_count": 52,
   "metadata": {
    "collapsed": true
   },
   "outputs": [],
   "source": [
    "del dfs"
   ]
  },
  {
   "cell_type": "code",
   "execution_count": 53,
   "metadata": {
    "collapsed": true
   },
   "outputs": [],
   "source": [
    "data.to_csv(path + directory + '/full_cleaned_sessions_data.csv', index = True)"
   ]
  },
  {
   "cell_type": "code",
   "execution_count": 54,
   "metadata": {},
   "outputs": [
    {
     "name": "stdout",
     "output_type": "stream",
     "text": [
      "<class 'pandas.core.frame.DataFrame'>\n",
      "Index: 135483 entries, 00023iyk9l to zzzlylp57e\n",
      "Columns: 141 entries, action__active to nb_sessions\n",
      "dtypes: float64(5), int64(136)\n",
      "memory usage: 146.8+ MB\n"
     ]
    }
   ],
   "source": [
    "data.info()"
   ]
  },
  {
   "cell_type": "code",
   "execution_count": 55,
   "metadata": {},
   "outputs": [
    {
     "data": {
      "text/html": [
       "<div>\n",
       "<style>\n",
       "    .dataframe thead tr:only-child th {\n",
       "        text-align: right;\n",
       "    }\n",
       "\n",
       "    .dataframe thead th {\n",
       "        text-align: left;\n",
       "    }\n",
       "\n",
       "    .dataframe tbody tr th {\n",
       "        vertical-align: top;\n",
       "    }\n",
       "</style>\n",
       "<table border=\"1\" class=\"dataframe\">\n",
       "  <thead>\n",
       "    <tr style=\"text-align: right;\">\n",
       "      <th></th>\n",
       "      <th>action__active</th>\n",
       "      <th>action__ajax_check_dates</th>\n",
       "      <th>action__ajax_lwlb_contact</th>\n",
       "      <th>action__ajax_photo_widget_form_iframe</th>\n",
       "      <th>action__ajax_refresh_subtotal</th>\n",
       "      <th>action__ask_question</th>\n",
       "      <th>action__authenticate</th>\n",
       "      <th>action__calendar_tab_inner2</th>\n",
       "      <th>action__callback</th>\n",
       "      <th>action__campaigns</th>\n",
       "      <th>...</th>\n",
       "      <th>decive_type__Windows Phone</th>\n",
       "      <th>decive_type__iPad Tablet</th>\n",
       "      <th>decive_type__iPhone</th>\n",
       "      <th>decive_type__iPodtouch</th>\n",
       "      <th>secs_min</th>\n",
       "      <th>secs_max</th>\n",
       "      <th>secs_med</th>\n",
       "      <th>secs_std</th>\n",
       "      <th>secs_mean</th>\n",
       "      <th>nb_sessions</th>\n",
       "    </tr>\n",
       "    <tr>\n",
       "      <th>user_id</th>\n",
       "      <th></th>\n",
       "      <th></th>\n",
       "      <th></th>\n",
       "      <th></th>\n",
       "      <th></th>\n",
       "      <th></th>\n",
       "      <th></th>\n",
       "      <th></th>\n",
       "      <th></th>\n",
       "      <th></th>\n",
       "      <th></th>\n",
       "      <th></th>\n",
       "      <th></th>\n",
       "      <th></th>\n",
       "      <th></th>\n",
       "      <th></th>\n",
       "      <th></th>\n",
       "      <th></th>\n",
       "      <th></th>\n",
       "      <th></th>\n",
       "      <th></th>\n",
       "    </tr>\n",
       "  </thead>\n",
       "  <tbody>\n",
       "    <tr>\n",
       "      <th>00023iyk9l</th>\n",
       "      <td>0</td>\n",
       "      <td>0</td>\n",
       "      <td>0</td>\n",
       "      <td>0</td>\n",
       "      <td>2</td>\n",
       "      <td>0</td>\n",
       "      <td>0</td>\n",
       "      <td>0</td>\n",
       "      <td>1</td>\n",
       "      <td>0</td>\n",
       "      <td>...</td>\n",
       "      <td>0</td>\n",
       "      <td>0</td>\n",
       "      <td>4</td>\n",
       "      <td>0</td>\n",
       "      <td>0.0</td>\n",
       "      <td>567165.0</td>\n",
       "      <td>850.0</td>\n",
       "      <td>92242.561900</td>\n",
       "      <td>22253.743590</td>\n",
       "      <td>40</td>\n",
       "    </tr>\n",
       "    <tr>\n",
       "      <th>0010k6l0om</th>\n",
       "      <td>0</td>\n",
       "      <td>0</td>\n",
       "      <td>0</td>\n",
       "      <td>0</td>\n",
       "      <td>8</td>\n",
       "      <td>0</td>\n",
       "      <td>0</td>\n",
       "      <td>0</td>\n",
       "      <td>1</td>\n",
       "      <td>0</td>\n",
       "      <td>...</td>\n",
       "      <td>0</td>\n",
       "      <td>0</td>\n",
       "      <td>0</td>\n",
       "      <td>0</td>\n",
       "      <td>3.0</td>\n",
       "      <td>127898.0</td>\n",
       "      <td>948.5</td>\n",
       "      <td>22751.227918</td>\n",
       "      <td>9460.370968</td>\n",
       "      <td>63</td>\n",
       "    </tr>\n",
       "    <tr>\n",
       "      <th>001wyh0pz8</th>\n",
       "      <td>4</td>\n",
       "      <td>0</td>\n",
       "      <td>0</td>\n",
       "      <td>0</td>\n",
       "      <td>0</td>\n",
       "      <td>0</td>\n",
       "      <td>0</td>\n",
       "      <td>0</td>\n",
       "      <td>0</td>\n",
       "      <td>3</td>\n",
       "      <td>...</td>\n",
       "      <td>0</td>\n",
       "      <td>0</td>\n",
       "      <td>0</td>\n",
       "      <td>0</td>\n",
       "      <td>35.0</td>\n",
       "      <td>50548.0</td>\n",
       "      <td>1105.0</td>\n",
       "      <td>6569.648182</td>\n",
       "      <td>3179.382022</td>\n",
       "      <td>90</td>\n",
       "    </tr>\n",
       "    <tr>\n",
       "      <th>0028jgx1x1</th>\n",
       "      <td>1</td>\n",
       "      <td>0</td>\n",
       "      <td>0</td>\n",
       "      <td>0</td>\n",
       "      <td>0</td>\n",
       "      <td>0</td>\n",
       "      <td>0</td>\n",
       "      <td>0</td>\n",
       "      <td>0</td>\n",
       "      <td>0</td>\n",
       "      <td>...</td>\n",
       "      <td>0</td>\n",
       "      <td>0</td>\n",
       "      <td>0</td>\n",
       "      <td>0</td>\n",
       "      <td>3.0</td>\n",
       "      <td>84636.0</td>\n",
       "      <td>1614.0</td>\n",
       "      <td>18004.964337</td>\n",
       "      <td>9900.333333</td>\n",
       "      <td>31</td>\n",
       "    </tr>\n",
       "    <tr>\n",
       "      <th>002qnbzfs5</th>\n",
       "      <td>29</td>\n",
       "      <td>0</td>\n",
       "      <td>0</td>\n",
       "      <td>0</td>\n",
       "      <td>0</td>\n",
       "      <td>0</td>\n",
       "      <td>0</td>\n",
       "      <td>0</td>\n",
       "      <td>0</td>\n",
       "      <td>28</td>\n",
       "      <td>...</td>\n",
       "      <td>0</td>\n",
       "      <td>0</td>\n",
       "      <td>775</td>\n",
       "      <td>0</td>\n",
       "      <td>0.0</td>\n",
       "      <td>1418284.0</td>\n",
       "      <td>498.0</td>\n",
       "      <td>58110.646170</td>\n",
       "      <td>8232.335025</td>\n",
       "      <td>789</td>\n",
       "    </tr>\n",
       "  </tbody>\n",
       "</table>\n",
       "<p>5 rows × 141 columns</p>\n",
       "</div>"
      ],
      "text/plain": [
       "            action__active  action__ajax_check_dates  \\\n",
       "user_id                                                \n",
       "00023iyk9l               0                         0   \n",
       "0010k6l0om               0                         0   \n",
       "001wyh0pz8               4                         0   \n",
       "0028jgx1x1               1                         0   \n",
       "002qnbzfs5              29                         0   \n",
       "\n",
       "            action__ajax_lwlb_contact  action__ajax_photo_widget_form_iframe  \\\n",
       "user_id                                                                        \n",
       "00023iyk9l                          0                                      0   \n",
       "0010k6l0om                          0                                      0   \n",
       "001wyh0pz8                          0                                      0   \n",
       "0028jgx1x1                          0                                      0   \n",
       "002qnbzfs5                          0                                      0   \n",
       "\n",
       "            action__ajax_refresh_subtotal  action__ask_question  \\\n",
       "user_id                                                           \n",
       "00023iyk9l                              2                     0   \n",
       "0010k6l0om                              8                     0   \n",
       "001wyh0pz8                              0                     0   \n",
       "0028jgx1x1                              0                     0   \n",
       "002qnbzfs5                              0                     0   \n",
       "\n",
       "            action__authenticate  action__calendar_tab_inner2  \\\n",
       "user_id                                                         \n",
       "00023iyk9l                     0                            0   \n",
       "0010k6l0om                     0                            0   \n",
       "001wyh0pz8                     0                            0   \n",
       "0028jgx1x1                     0                            0   \n",
       "002qnbzfs5                     0                            0   \n",
       "\n",
       "            action__callback  action__campaigns     ...       \\\n",
       "user_id                                             ...        \n",
       "00023iyk9l                 1                  0     ...        \n",
       "0010k6l0om                 1                  0     ...        \n",
       "001wyh0pz8                 0                  3     ...        \n",
       "0028jgx1x1                 0                  0     ...        \n",
       "002qnbzfs5                 0                 28     ...        \n",
       "\n",
       "            decive_type__Windows Phone  decive_type__iPad Tablet  \\\n",
       "user_id                                                            \n",
       "00023iyk9l                           0                         0   \n",
       "0010k6l0om                           0                         0   \n",
       "001wyh0pz8                           0                         0   \n",
       "0028jgx1x1                           0                         0   \n",
       "002qnbzfs5                           0                         0   \n",
       "\n",
       "            decive_type__iPhone  decive_type__iPodtouch  secs_min   secs_max  \\\n",
       "user_id                                                                        \n",
       "00023iyk9l                    4                       0       0.0   567165.0   \n",
       "0010k6l0om                    0                       0       3.0   127898.0   \n",
       "001wyh0pz8                    0                       0      35.0    50548.0   \n",
       "0028jgx1x1                    0                       0       3.0    84636.0   \n",
       "002qnbzfs5                  775                       0       0.0  1418284.0   \n",
       "\n",
       "            secs_med      secs_std     secs_mean  nb_sessions  \n",
       "user_id                                                        \n",
       "00023iyk9l     850.0  92242.561900  22253.743590           40  \n",
       "0010k6l0om     948.5  22751.227918   9460.370968           63  \n",
       "001wyh0pz8    1105.0   6569.648182   3179.382022           90  \n",
       "0028jgx1x1    1614.0  18004.964337   9900.333333           31  \n",
       "002qnbzfs5     498.0  58110.646170   8232.335025          789  \n",
       "\n",
       "[5 rows x 141 columns]"
      ]
     },
     "execution_count": 55,
     "metadata": {},
     "output_type": "execute_result"
    }
   ],
   "source": [
    "data.head()"
   ]
  },
  {
   "cell_type": "code",
   "execution_count": null,
   "metadata": {
    "collapsed": true
   },
   "outputs": [],
   "source": []
  },
  {
   "cell_type": "code",
   "execution_count": null,
   "metadata": {
    "collapsed": true
   },
   "outputs": [],
   "source": []
  }
 ],
 "metadata": {
  "kernelspec": {
   "display_name": "Python 3",
   "language": "python",
   "name": "python3"
  },
  "language_info": {
   "codemirror_mode": {
    "name": "ipython",
    "version": 3
   },
   "file_extension": ".py",
   "mimetype": "text/x-python",
   "name": "python",
   "nbconvert_exporter": "python",
   "pygments_lexer": "ipython3",
   "version": "3.6.3"
  }
 },
 "nbformat": 4,
 "nbformat_minor": 2
}
