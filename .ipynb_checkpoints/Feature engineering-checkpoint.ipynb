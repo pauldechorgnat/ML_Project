{
 "cells": [
  {
   "cell_type": "code",
   "execution_count": 56,
   "metadata": {
    "collapsed": true
   },
   "outputs": [],
   "source": [
    "import pandas as pd \n",
    "import numpy as np \n",
    "import matplotlib.pyplot as plt \n",
    "%matplotlib inline \n",
    "from os import listdir"
   ]
  },
  {
   "cell_type": "code",
   "execution_count": 57,
   "metadata": {
    "collapsed": true
   },
   "outputs": [],
   "source": [
    "path = 'C:/Users/Marie/Desktop/MSc DSBA/4. Machine Learning/3. Project'\n",
    "path += '/data_cleaned'"
   ]
  },
  {
   "cell_type": "code",
   "execution_count": 58,
   "metadata": {},
   "outputs": [
    {
     "data": {
      "text/plain": [
       "['cleaned_full_data.csv',\n",
       " 'full_cleaned_sessions_data.csv',\n",
       " 'full_cleaned_users_data.csv',\n",
       " 'sessions_action.csv',\n",
       " 'sessions_action_detail.csv',\n",
       " 'sessions_action_type.csv',\n",
       " 'sessions_device_type.csv',\n",
       " 'sessions_secs_elapsed.csv',\n",
       " 'targets.csv']"
      ]
     },
     "execution_count": 58,
     "metadata": {},
     "output_type": "execute_result"
    }
   ],
   "source": [
    "listdir(path)"
   ]
  },
  {
   "cell_type": "code",
   "execution_count": 59,
   "metadata": {},
   "outputs": [],
   "source": [
    "full_data = pd.read_csv(path + '/full_cleaned_users_data.csv')"
   ]
  },
  {
   "cell_type": "code",
   "execution_count": 60,
   "metadata": {},
   "outputs": [
    {
     "name": "stderr",
     "output_type": "stream",
     "text": [
      "C:\\Users\\Marie\\AppData\\Local\\Continuum\\anaconda3\\lib\\site-packages\\IPython\\core\\interactiveshell.py:2698: DtypeWarning: Columns (1) have mixed types. Specify dtype option on import or set low_memory=False.\n",
      "  interactivity=interactivity, compiler=compiler, result=result)\n"
     ]
    }
   ],
   "source": [
    "targets = pd.read_csv(path + '/targets.csv', names = ['user_id', 'destination'], header=None)"
   ]
  },
  {
   "cell_type": "code",
   "execution_count": 61,
   "metadata": {},
   "outputs": [],
   "source": [
    "def transform_cyclical_data(x):\n",
    "    day = x.day\n",
    "    month = x.month\n",
    "    hour = x.time().hour*60+x.time().minute\n",
    "    hour_sin = np.sin(hour*2*np.pi/(24*60))\n",
    "    hour_cos = np.cos(hour*2*np.pi/(24*60))\n",
    "    month_cos = np.cos(month*2*np.pi/12)\n",
    "    month_sin = np.sin(month*2*np.pi/12)\n",
    "    week_day = x.weekday()\n",
    "    week_day_cos = np.cos(week_day*2*np.pi/7)\n",
    "    week_day_sin = np.sin(week_day*2*np.pi/7)\n",
    "    return [day, month_cos, month_sin, hour_cos, hour_sin, week_day_cos, week_day_sin]"
   ]
  },
  {
   "cell_type": "code",
   "execution_count": null,
   "metadata": {},
   "outputs": [],
   "source": []
  },
  {
   "cell_type": "code",
   "execution_count": null,
   "metadata": {},
   "outputs": [],
   "source": []
  },
  {
   "cell_type": "code",
   "execution_count": 62,
   "metadata": {},
   "outputs": [
    {
     "name": "stdout",
     "output_type": "stream",
     "text": [
      "timestamp_first_active done\n",
      "date_account_created done\n"
     ]
    }
   ],
   "source": [
    "time_cols = ['timestamp_first_active', 'date_account_created']\n",
    "\n",
    "for col in time_cols :\n",
    "    full_data[col] = pd.to_datetime(full_data[col]).apply(transform_cyclical_data)\n",
    "    full_data[col + '_day'] = full_data[col].apply(lambda x: x[0])\n",
    "    full_data[col + '_month_cos'] = full_data[col].apply(lambda x: x[1])\n",
    "    full_data[col + '_month_sin'] = full_data[col].apply(lambda x: x[2])\n",
    "    full_data[col + '_hour_cos'] = full_data[col].apply(lambda x: x[3])\n",
    "    full_data[col + '_hour_sin'] = full_data[col].apply(lambda x: x[4])\n",
    "    full_data[col + '_wkday_cos'] = full_data[col].apply(lambda x: x[5])\n",
    "    full_data[col + '_wkday_sin'] = full_data[col].apply(lambda x: x[6])\n",
    "    full_data = full_data.drop([col], axis = 1)\n",
    "    print(col, 'done')"
   ]
  },
  {
   "cell_type": "code",
   "execution_count": 63,
   "metadata": {},
   "outputs": [],
   "source": [
    "full_data.to_csv(path + '/full_engineered_users_data.csv', index = False)"
   ]
  },
  {
   "cell_type": "code",
   "execution_count": null,
   "metadata": {
    "collapsed": true
   },
   "outputs": [],
   "source": []
  }
 ],
 "metadata": {
  "kernelspec": {
   "display_name": "Python 3",
   "language": "python",
   "name": "python3"
  },
  "language_info": {
   "codemirror_mode": {
    "name": "ipython",
    "version": 3
   },
   "file_extension": ".py",
   "mimetype": "text/x-python",
   "name": "python",
   "nbconvert_exporter": "python",
   "pygments_lexer": "ipython3",
   "version": "3.6.3"
  }
 },
 "nbformat": 4,
 "nbformat_minor": 2
}
