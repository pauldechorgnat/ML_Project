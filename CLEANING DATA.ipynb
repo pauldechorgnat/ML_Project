{
 "cells": [
  {
   "cell_type": "markdown",
   "metadata": {},
   "source": [
    "# Cleaning train and test data"
   ]
  },
  {
   "cell_type": "markdown",
   "metadata": {},
   "source": [
    "### Importing libraries"
   ]
  },
  {
   "cell_type": "code",
   "execution_count": 1,
   "metadata": {
    "collapsed": true
   },
   "outputs": [],
   "source": [
    "import pandas as pd \n",
    "import numpy as np\n",
    "from os import listdir, stat, mkdir\n",
    "import matplotlib.pyplot as plt\n",
    "%matplotlib inline\n",
    "pd.options.mode.chained_assignment = None"
   ]
  },
  {
   "cell_type": "markdown",
   "metadata": {},
   "source": [
    "### Defining paths to data and to cleaned data directory"
   ]
  },
  {
   "cell_type": "code",
   "execution_count": 2,
   "metadata": {},
   "outputs": [
    {
     "name": "stdout",
     "output_type": "stream",
     "text": [
      "['.ipynb_checkpoints', 'clean_data', 'Dealing with sessions.ipynb', 'Github', 'sessions.csv', 'sessions_cleaned', 'test_users.csv', 'train_users_2.csv', 'variables.xlsx', '~$variables.xlsx']\n"
     ]
    }
   ],
   "source": [
    "path = \"C:/Users/Marie/Desktop/MSc DSBA/4. Machine Learning/3. Project/\"\n",
    "directory = 'clean_data/'\n",
    "print(listdir(path))"
   ]
  },
  {
   "cell_type": "markdown",
   "metadata": {},
   "source": [
    "### Creating cleaned data directory"
   ]
  },
  {
   "cell_type": "code",
   "execution_count": 3,
   "metadata": {
    "collapsed": true
   },
   "outputs": [],
   "source": [
    "try :\n",
    "    stat(path + directory)\n",
    "except: \n",
    "    mkdir(path + directory)"
   ]
  },
  {
   "cell_type": "markdown",
   "metadata": {},
   "source": [
    "### Loading data"
   ]
  },
  {
   "cell_type": "code",
   "execution_count": 4,
   "metadata": {
    "collapsed": true
   },
   "outputs": [],
   "source": [
    "train = pd.read_csv(path + 'train_users_2.csv', na_values=['-unknown-'])\n",
    "train['user_id'] = train['id']\n",
    "train = train.drop(['id', 'date_first_booking'], axis = 1)"
   ]
  },
  {
   "cell_type": "code",
   "execution_count": 5,
   "metadata": {
    "collapsed": true
   },
   "outputs": [],
   "source": [
    "test = pd.read_csv(path + 'test_users.csv', na_values=['-unknown-'])\n",
    "test['user_id'] = test['id']\n",
    "test = test.drop(['id', 'date_first_booking'], axis = 1)"
   ]
  },
  {
   "cell_type": "markdown",
   "metadata": {},
   "source": [
    "### Concatenating train and test data"
   ]
  },
  {
   "cell_type": "code",
   "execution_count": 6,
   "metadata": {
    "collapsed": true
   },
   "outputs": [],
   "source": [
    "data = pd.concat([train, test]).set_index('user_id', drop = True)"
   ]
  },
  {
   "cell_type": "markdown",
   "metadata": {},
   "source": [
    "### Defining target dataset"
   ]
  },
  {
   "cell_type": "code",
   "execution_count": 7,
   "metadata": {
    "collapsed": true
   },
   "outputs": [],
   "source": [
    "targets = data['country_destination']\n",
    "data = data.drop('country_destination', axis = 1)"
   ]
  },
  {
   "cell_type": "code",
   "execution_count": 8,
   "metadata": {},
   "outputs": [
    {
     "data": {
      "text/html": [
       "<div>\n",
       "<style>\n",
       "    .dataframe thead tr:only-child th {\n",
       "        text-align: right;\n",
       "    }\n",
       "\n",
       "    .dataframe thead th {\n",
       "        text-align: left;\n",
       "    }\n",
       "\n",
       "    .dataframe tbody tr th {\n",
       "        vertical-align: top;\n",
       "    }\n",
       "</style>\n",
       "<table border=\"1\" class=\"dataframe\">\n",
       "  <thead>\n",
       "    <tr style=\"text-align: right;\">\n",
       "      <th></th>\n",
       "      <th>affiliate_channel</th>\n",
       "      <th>affiliate_provider</th>\n",
       "      <th>age</th>\n",
       "      <th>date_account_created</th>\n",
       "      <th>first_affiliate_tracked</th>\n",
       "      <th>first_browser</th>\n",
       "      <th>first_device_type</th>\n",
       "      <th>gender</th>\n",
       "      <th>language</th>\n",
       "      <th>signup_app</th>\n",
       "      <th>signup_flow</th>\n",
       "      <th>signup_method</th>\n",
       "      <th>timestamp_first_active</th>\n",
       "    </tr>\n",
       "    <tr>\n",
       "      <th>user_id</th>\n",
       "      <th></th>\n",
       "      <th></th>\n",
       "      <th></th>\n",
       "      <th></th>\n",
       "      <th></th>\n",
       "      <th></th>\n",
       "      <th></th>\n",
       "      <th></th>\n",
       "      <th></th>\n",
       "      <th></th>\n",
       "      <th></th>\n",
       "      <th></th>\n",
       "      <th></th>\n",
       "    </tr>\n",
       "  </thead>\n",
       "  <tbody>\n",
       "    <tr>\n",
       "      <th>gxn3p5htnn</th>\n",
       "      <td>direct</td>\n",
       "      <td>direct</td>\n",
       "      <td>NaN</td>\n",
       "      <td>2010-06-28</td>\n",
       "      <td>untracked</td>\n",
       "      <td>Chrome</td>\n",
       "      <td>Mac Desktop</td>\n",
       "      <td>NaN</td>\n",
       "      <td>en</td>\n",
       "      <td>Web</td>\n",
       "      <td>0</td>\n",
       "      <td>facebook</td>\n",
       "      <td>20090319043255</td>\n",
       "    </tr>\n",
       "    <tr>\n",
       "      <th>820tgsjxq7</th>\n",
       "      <td>seo</td>\n",
       "      <td>google</td>\n",
       "      <td>38.0</td>\n",
       "      <td>2011-05-25</td>\n",
       "      <td>untracked</td>\n",
       "      <td>Chrome</td>\n",
       "      <td>Mac Desktop</td>\n",
       "      <td>MALE</td>\n",
       "      <td>en</td>\n",
       "      <td>Web</td>\n",
       "      <td>0</td>\n",
       "      <td>facebook</td>\n",
       "      <td>20090523174809</td>\n",
       "    </tr>\n",
       "    <tr>\n",
       "      <th>4ft3gnwmtx</th>\n",
       "      <td>direct</td>\n",
       "      <td>direct</td>\n",
       "      <td>56.0</td>\n",
       "      <td>2010-09-28</td>\n",
       "      <td>untracked</td>\n",
       "      <td>IE</td>\n",
       "      <td>Windows Desktop</td>\n",
       "      <td>FEMALE</td>\n",
       "      <td>en</td>\n",
       "      <td>Web</td>\n",
       "      <td>3</td>\n",
       "      <td>basic</td>\n",
       "      <td>20090609231247</td>\n",
       "    </tr>\n",
       "    <tr>\n",
       "      <th>bjjt8pjhuk</th>\n",
       "      <td>direct</td>\n",
       "      <td>direct</td>\n",
       "      <td>42.0</td>\n",
       "      <td>2011-12-05</td>\n",
       "      <td>untracked</td>\n",
       "      <td>Firefox</td>\n",
       "      <td>Mac Desktop</td>\n",
       "      <td>FEMALE</td>\n",
       "      <td>en</td>\n",
       "      <td>Web</td>\n",
       "      <td>0</td>\n",
       "      <td>facebook</td>\n",
       "      <td>20091031060129</td>\n",
       "    </tr>\n",
       "    <tr>\n",
       "      <th>87mebub9p4</th>\n",
       "      <td>direct</td>\n",
       "      <td>direct</td>\n",
       "      <td>41.0</td>\n",
       "      <td>2010-09-14</td>\n",
       "      <td>untracked</td>\n",
       "      <td>Chrome</td>\n",
       "      <td>Mac Desktop</td>\n",
       "      <td>NaN</td>\n",
       "      <td>en</td>\n",
       "      <td>Web</td>\n",
       "      <td>0</td>\n",
       "      <td>basic</td>\n",
       "      <td>20091208061105</td>\n",
       "    </tr>\n",
       "  </tbody>\n",
       "</table>\n",
       "</div>"
      ],
      "text/plain": [
       "           affiliate_channel affiliate_provider   age date_account_created  \\\n",
       "user_id                                                                      \n",
       "gxn3p5htnn            direct             direct   NaN           2010-06-28   \n",
       "820tgsjxq7               seo             google  38.0           2011-05-25   \n",
       "4ft3gnwmtx            direct             direct  56.0           2010-09-28   \n",
       "bjjt8pjhuk            direct             direct  42.0           2011-12-05   \n",
       "87mebub9p4            direct             direct  41.0           2010-09-14   \n",
       "\n",
       "           first_affiliate_tracked first_browser first_device_type  gender  \\\n",
       "user_id                                                                      \n",
       "gxn3p5htnn               untracked        Chrome       Mac Desktop     NaN   \n",
       "820tgsjxq7               untracked        Chrome       Mac Desktop    MALE   \n",
       "4ft3gnwmtx               untracked            IE   Windows Desktop  FEMALE   \n",
       "bjjt8pjhuk               untracked       Firefox       Mac Desktop  FEMALE   \n",
       "87mebub9p4               untracked        Chrome       Mac Desktop     NaN   \n",
       "\n",
       "           language signup_app  signup_flow signup_method  \\\n",
       "user_id                                                     \n",
       "gxn3p5htnn       en        Web            0      facebook   \n",
       "820tgsjxq7       en        Web            0      facebook   \n",
       "4ft3gnwmtx       en        Web            3         basic   \n",
       "bjjt8pjhuk       en        Web            0      facebook   \n",
       "87mebub9p4       en        Web            0         basic   \n",
       "\n",
       "            timestamp_first_active  \n",
       "user_id                             \n",
       "gxn3p5htnn          20090319043255  \n",
       "820tgsjxq7          20090523174809  \n",
       "4ft3gnwmtx          20090609231247  \n",
       "bjjt8pjhuk          20091031060129  \n",
       "87mebub9p4          20091208061105  "
      ]
     },
     "execution_count": 8,
     "metadata": {},
     "output_type": "execute_result"
    }
   ],
   "source": [
    "data.head()"
   ]
  },
  {
   "cell_type": "code",
   "execution_count": 9,
   "metadata": {},
   "outputs": [
    {
     "name": "stdout",
     "output_type": "stream",
     "text": [
      "<class 'pandas.core.frame.DataFrame'>\n",
      "Index: 275547 entries, gxn3p5htnn to 9uqfg8txu3\n",
      "Data columns (total 13 columns):\n",
      "affiliate_channel          275547 non-null object\n",
      "affiliate_provider         275547 non-null object\n",
      "age                        158681 non-null float64\n",
      "date_account_created       275547 non-null object\n",
      "first_affiliate_tracked    269462 non-null object\n",
      "first_browser              231153 non-null object\n",
      "first_device_type          275547 non-null object\n",
      "gender                     146067 non-null object\n",
      "language                   275546 non-null object\n",
      "signup_app                 275547 non-null object\n",
      "signup_flow                275547 non-null int64\n",
      "signup_method              275547 non-null object\n",
      "timestamp_first_active     275547 non-null int64\n",
      "dtypes: float64(1), int64(2), object(10)\n",
      "memory usage: 29.4+ MB\n"
     ]
    }
   ],
   "source": [
    "data.info()"
   ]
  },
  {
   "cell_type": "markdown",
   "metadata": {},
   "source": [
    "### Dealing with temporal data"
   ]
  },
  {
   "cell_type": "code",
   "execution_count": 10,
   "metadata": {
    "collapsed": true
   },
   "outputs": [],
   "source": [
    "def format_timestamp(x):\n",
    "    x = str(x)\n",
    "    return x[:4]+'-'+x[4:6] +'-'+x[6:8]+' '+x[8:10]+':'+x[10:12]+':'+x[12:]"
   ]
  },
  {
   "cell_type": "code",
   "execution_count": 11,
   "metadata": {
    "collapsed": true
   },
   "outputs": [],
   "source": [
    "def transform_cyclical_data(x):\n",
    "    day = x.day\n",
    "    month = x.month\n",
    "    hour = x.time().hour*60+x.time().minute\n",
    "    day_cos = np.cos(day*2/30*np.pi)\n",
    "    day_sin = np.sin(day*2/30*np.pi)\n",
    "    hour_sin = np.sin(hour*2*np.pi/(24*60))\n",
    "    hour_cos = np.cos(hour*2*np.pi/(24*60))\n",
    "    month_cos = np.cos(month*2*np.pi/12)\n",
    "    month_sin = np.sin(month*2*np.pi/12)\n",
    "    week_day = x.weekday()\n",
    "    week_day_cos = np.cos(week_day*2*np.pi/7)\n",
    "    week_day_sin = np.sin(week_day*2*np.pi/7)\n",
    "    return [day_cos, day_sin, month_cos, month_sin, hour_cos, hour_sin, week_day_cos, week_day_sin]"
   ]
  },
  {
   "cell_type": "code",
   "execution_count": 12,
   "metadata": {
    "collapsed": true
   },
   "outputs": [],
   "source": [
    "data.timestamp_first_active = pd.to_datetime(data.timestamp_first_active.apply(format_timestamp), format = '%Y-%m-%d %H:%M:%S')\n",
    "data.date_account_created = pd.to_datetime(data.date_account_created)"
   ]
  },
  {
   "cell_type": "code",
   "execution_count": 13,
   "metadata": {},
   "outputs": [
    {
     "name": "stdout",
     "output_type": "stream",
     "text": [
      "timestamp_first_active done\n",
      "date_account_created done\n"
     ]
    }
   ],
   "source": [
    "time_cols = ['timestamp_first_active', 'date_account_created']\n",
    "\n",
    "for col in time_cols :\n",
    "    data[col] = pd.to_datetime(data[col]).apply(transform_cyclical_data)\n",
    "    data[col + '_day_cos'] = data[col].apply(lambda x: x[0])\n",
    "    data[col + '_day_sin'] = data[col].apply(lambda x: x[1])\n",
    "    data[col + '_month_cos'] = data[col].apply(lambda x: x[2])\n",
    "    data[col + '_month_sin'] = data[col].apply(lambda x: x[3])\n",
    "    data[col + '_hour_cos'] = data[col].apply(lambda x: x[4])\n",
    "    data[col + '_hour_sin'] = data[col].apply(lambda x: x[5])\n",
    "    data[col + '_wkday_cos'] = data[col].apply(lambda x: x[6])\n",
    "    data[col + '_wkday_sin'] = data[col].apply(lambda x: x[7])\n",
    "    data.drop([col], axis = 1, inplace = True)\n",
    "    print(col, 'done')\n",
    "    \n",
    "data.drop(['date_account_created_hour_cos', 'date_account_created_hour_sin'],\n",
    "               axis =1, inplace=True) "
   ]
  },
  {
   "cell_type": "markdown",
   "metadata": {},
   "source": [
    "### Filling missing language variable"
   ]
  },
  {
   "cell_type": "code",
   "execution_count": 14,
   "metadata": {},
   "outputs": [
    {
     "data": {
      "image/png": "[encoded data removed]",
      "text/plain": [
       "<matplotlib.figure.Figure at 0x273a6c94da0>"
      ]
     },
     "metadata": {},
     "output_type": "display_data"
    }
   ],
   "source": [
    "data.language.hist(figsize = (16,8), bins = 100 )\n",
    "plt.show()\n",
    "# replacing the missing value in language by english \n",
    "data.language.fillna(value = 'en', inplace = True)"
   ]
  },
  {
   "cell_type": "markdown",
   "metadata": {},
   "source": [
    "### Filling first affiliate tracked variable"
   ]
  },
  {
   "cell_type": "code",
   "execution_count": 15,
   "metadata": {},
   "outputs": [
    {
     "data": {
      "image/png": "[encoded data removed]",
      "text/plain": [
       "<matplotlib.figure.Figure at 0x273a6c94c88>"
      ]
     },
     "metadata": {},
     "output_type": "display_data"
    }
   ],
   "source": [
    "data.first_affiliate_tracked.hist(figsize = (16,8), bins=100)\n",
    "plt.show()\n",
    "# it seems logical to fill the first affiliate tracked non available values with 'untracked'\n",
    "data.first_affiliate_tracked.fillna('untracked', inplace = True)"
   ]
  },
  {
   "cell_type": "markdown",
   "metadata": {},
   "source": [
    "### Dealing with first browser variable"
   ]
  },
  {
   "cell_type": "code",
   "execution_count": 16,
   "metadata": {},
   "outputs": [
    {
     "data": {
      "image/png": "[encoded data removed]",
      "text/plain": [
       "<matplotlib.figure.Figure at 0x273aa756a20>"
      ]
     },
     "metadata": {},
     "output_type": "display_data"
    }
   ],
   "source": [
    "data.first_browser.hist(bins= 100, figsize = (16,8))\n",
    "plt.xticks(rotation = 90)\n",
    "plt.show()\n",
    "# there are a lot of different values, so we will simply keep the most important and discard the other as 'other', includint na values\n",
    "most_common_browser = data.first_browser.value_counts().sort_values( ascending = False)[:9].index\n",
    "data.first_browser = data.first_browser.apply(lambda x: x if x in most_common_browser else 'other')"
   ]
  },
  {
   "cell_type": "markdown",
   "metadata": {},
   "source": [
    "### Keeping a variable to split data into train and test"
   ]
  },
  {
   "cell_type": "code",
   "execution_count": 17,
   "metadata": {
    "collapsed": true
   },
   "outputs": [],
   "source": [
    "data['train'] = targets.notnull()*1"
   ]
  },
  {
   "cell_type": "markdown",
   "metadata": {},
   "source": [
    "### Creating dummy variables"
   ]
  },
  {
   "cell_type": "code",
   "execution_count": 18,
   "metadata": {
    "collapsed": true
   },
   "outputs": [],
   "source": [
    "col_obj = data.columns[data.dtypes == 'object']\n",
    "for col in col_obj:\n",
    "    data = pd.get_dummies(data, columns=[col], prefix = col + '_')"
   ]
  },
  {
   "cell_type": "code",
   "execution_count": 19,
   "metadata": {
    "collapsed": true
   },
   "outputs": [],
   "source": [
    "pd.DataFrame(targets).to_csv(path + directory + 'targets_flat.csv', index = True)\n",
    "targets = pd.get_dummies(targets)"
   ]
  },
  {
   "cell_type": "markdown",
   "metadata": {},
   "source": [
    "### Saving data in csv files"
   ]
  },
  {
   "cell_type": "code",
   "execution_count": 20,
   "metadata": {
    "collapsed": true
   },
   "outputs": [],
   "source": [
    "data[data['train']==1].drop('train',axis = 1).to_csv(path + directory + 'train.csv', index = True)\n",
    "data[data['train']==0].drop('train',axis = 1).to_csv(path + directory + 'test.csv', index = True)"
   ]
  },
  {
   "cell_type": "code",
   "execution_count": 21,
   "metadata": {
    "collapsed": true
   },
   "outputs": [],
   "source": [
    "targets.to_csv(path + directory + 'targets.csv', index = True)"
   ]
  },
  {
   "cell_type": "code",
   "execution_count": null,
   "metadata": {
    "collapsed": true
   },
   "outputs": [],
   "source": []
  }
 ],
 "metadata": {
  "kernelspec": {
   "display_name": "Python 3",
   "language": "python",
   "name": "python3"
  },
  "language_info": {
   "codemirror_mode": {
    "name": "ipython",
    "version": 3
   },
   "file_extension": ".py",
   "mimetype": "text/x-python",
   "name": "python",
   "nbconvert_exporter": "python",
   "pygments_lexer": "ipython3",
   "version": "3.6.3"
  }
 },
 "nbformat": 4,
 "nbformat_minor": 2
}
